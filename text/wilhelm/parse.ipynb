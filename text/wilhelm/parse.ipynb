{
 "cells": [
  {
   "cell_type": "code",
   "execution_count": 1,
   "metadata": {},
   "outputs": [
    {
     "name": "stdout",
     "output_type": "stream",
     "text": [
      "'utf-8' codec can't decode byte 0x80 in position 1721: invalid start byte\n"
     ]
    }
   ],
   "source": [
    "try:\n",
    "    with open('i.html') as fp:\n",
    "        text = fp.read()\n",
    "except UnicodeDecodeError as exc:\n",
    "    print(exc)"
   ]
  },
  {
   "cell_type": "code",
   "execution_count": 2,
   "metadata": {},
   "outputs": [
    {
     "name": "stdout",
     "output_type": "stream",
     "text": [
      "0a '\\n'\n",
      "0a '\\n'\n",
      "3c '<'\n",
      "21 '!'\n",
      "2d '-'\n",
      "2d '-'\n",
      "80 '€'\n",
      "80 '€'\n",
      "80 '€'\n",
      "80 '€'\n"
     ]
    }
   ],
   "source": [
    "with open('i.html', 'rb') as fp:\n",
    "    octets = fp.read()\n",
    "\n",
    "for i in range(1715, 1725):\n",
    "    code = octets[i]\n",
    "    octet = octets[i:i+1]\n",
    "    char = octet.decode('cp1252')\n",
    "    print(f'{code:02x} {char!r}')"
   ]
  },
  {
   "cell_type": "code",
   "execution_count": 3,
   "metadata": {},
   "outputs": [],
   "source": [
    "with open('i.html', encoding='cp1252') as fp:\n",
    "     text = fp.read()"
   ]
  },
  {
   "cell_type": "code",
   "execution_count": 17,
   "metadata": {},
   "outputs": [
    {
     "name": "stdout",
     "output_type": "stream",
     "text": [
      "1 \tCh'ien     The Creative\n",
      "2 \tK'un       The Receptive\n",
      "3 \tChun       Difficulty at the Beginning\n",
      "4 \tMêng       Youthful Folly\n",
      "5 \tHsü        Waiting (Nourishment)\n",
      "6 \tSung       Conflict\n",
      "7 \tShih       The Army\n",
      "8 \tPi         Holding Together [union]\n",
      "9 \tHsiao Ch'u The Taming Power of the Small\n",
      "10\tLü         Treading [conduct]\n",
      "11\tT'ai       Peace\n",
      "12\tP'i        Standstill [Stagnation]\n",
      "13\tT'ung Jên  Fellowship with Men\n",
      "14\tTa Yu      Possession in Great Measure\n",
      "15\tCh'ien     Modesty\n",
      "16\tYü         Enthusiasm\n",
      "17\tSui        Following\n",
      "18\tKu         Work on what has been spoiled [ Decay ]\n",
      "19\tLin        Approach\n",
      "20\tKuan       Contemplation (View)\n",
      "21\t Shih Ho   Biting Through\n",
      "22\tPi         Grace\n",
      "23\tPo         Splitting Apart\n",
      "24\tFu         Return (The Turning Point)\n",
      "25\tWu Wang    Innocence (The Unexpected)\n",
      "26\tTa Ch'u    The Taming Power of the Great\n",
      "27\tI          Corners of the Mouth (Providing Nourishment)\n",
      "28\tTa Kuo     Preponderance of the Great\n",
      "29\tK'an       The Abysmal (Water)\n",
      "30\tLi         The Clinging, Fire\n",
      "31\tHsien      Influence (Wooing)\n",
      "32\tHêng       Duration\n",
      "33\tTUN        Retreat\n",
      "34\tTa Chuang  The Power of the Great <!--Akira Rabelais-->\n",
      "35\tChin       Progress\n",
      "36\tMing I     Darkening of the light\n",
      "37\tChia Jên   The Family [The Clan]\n",
      "38\tK'uei      Opposition\n",
      "39\tChien      Obstruction\n",
      "40\tHsieh      Deliverance\n",
      "41\tSun        Decrease\n",
      "42\tI          Increase\n",
      "43\tKuai       Break-through (Resoluteness)\n",
      "44\tKou        Coming to Meet\n",
      "45\t Ts'ui     Gathering Together [Massing]\n",
      "46\t Shêng     Pushing Upward\n",
      "47\tK'un       Oppression (Exhaustion)\n",
      "48\tChing      The Well\n",
      "49\tKo         Revolution (Molting)\n",
      "50\tTing       The Caldron\n",
      "51\tChên       The Arousing (Shock, Thunder)\n",
      "52\tKên        Keeping Still, Mountain\n",
      "53\tChien      Development (Gradual Progress)\n",
      "54\tKuei Mei   The Marrying Maiden\n",
      "55\tFêng       Abundance [Fullness]\n",
      "56\tLü         The Wanderer\n",
      "57\tSun        The Gentle (The Penetrating, Wind)\n",
      "58\tTui        The Joyous, Lake\n",
      "59\tHuan       Dispersion [Dissolution]\n",
      "60\tChieh      Limitation\n",
      "61\tChung Fu   Inner Truth <!--Akira Rabelais-->\n",
      "62\tHsiao Kuo  Preponderance of the Small\n",
      "63\tChi Chi    After Completion\n",
      "64\tWei Chi    Before Completion\n"
     ]
    }
   ],
   "source": [
    "import re\n",
    "import html\n",
    "\n",
    "hexagram_start = re.compile(r'<a name=\"\\d{1,2}\"></a>')\n",
    "title_parts = re.compile(r'(\\d{1,2})\\. ([^\\n]+)')\n",
    "chapters = hexagram_start.split(html.unescape(text))\n",
    "for i, chapter in enumerate(chapters[1:], 1):\n",
    "    verses = chapter.split('\\n')\n",
    "    hit = title_parts.search(verses[1])\n",
    "    n, title = hit.groups(verses[1])\n",
    "    title_wg, title_en = title.split(' / ')\n",
    "    assert i == int(n)\n",
    "    print(f'{n:2}\\t{title_wg:10} {title_en}')"
   ]
  },
  {
   "cell_type": "code",
   "execution_count": null,
   "metadata": {},
   "outputs": [],
   "source": []
  }
 ],
 "metadata": {
  "kernelspec": {
   "display_name": "Python 3",
   "language": "python",
   "name": "python3"
  },
  "language_info": {
   "codemirror_mode": {
    "name": "ipython",
    "version": 3
   },
   "file_extension": ".py",
   "mimetype": "text/x-python",
   "name": "python",
   "nbconvert_exporter": "python",
   "pygments_lexer": "ipython3",
   "version": "3.7.5"
  }
 },
 "nbformat": 4,
 "nbformat_minor": 2
}
