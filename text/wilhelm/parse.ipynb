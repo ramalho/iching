{
 "cells": [
  {
   "cell_type": "code",
   "execution_count": 1,
   "metadata": {},
   "outputs": [
    {
     "name": "stdout",
     "output_type": "stream",
     "text": [
      "'utf-8' codec can't decode byte 0x80 in position 1721: invalid start byte\n"
     ]
    }
   ],
   "source": [
    "try:\n",
    "    with open('i.html') as fp:\n",
    "        text = fp.read()\n",
    "except UnicodeDecodeError as exc:\n",
    "    print(exc)"
   ]
  },
  {
   "cell_type": "code",
   "execution_count": 2,
   "metadata": {},
   "outputs": [
    {
     "name": "stdout",
     "output_type": "stream",
     "text": [
      "0a '\\n'\n",
      "0a '\\n'\n",
      "3c '<'\n",
      "21 '!'\n",
      "2d '-'\n",
      "2d '-'\n",
      "80 '€'\n",
      "80 '€'\n",
      "80 '€'\n",
      "80 '€'\n"
     ]
    }
   ],
   "source": [
    "with open('i.html', 'rb') as fp:\n",
    "    octets = fp.read()\n",
    "\n",
    "for i in range(1715, 1725):\n",
    "    code = octets[i]\n",
    "    octet = octets[i:i+1]\n",
    "    char = octet.decode('cp1252')\n",
    "    print(f'{code:02x} {char!r}')"
   ]
  },
  {
   "cell_type": "code",
   "execution_count": 3,
   "metadata": {},
   "outputs": [],
   "source": [
    "with open('i.html', encoding='cp1252') as fp:\n",
    "     text = fp.read()"
   ]
  },
  {
   "cell_type": "code",
   "execution_count": null,
   "metadata": {},
   "outputs": [],
   "source": [
    "import re\n",
    "import html\n",
    "\n",
    "line_re = [re.compile(regex) for regex in (\n",
    "    r'(Six|Nine) (at|in) the beginning means:',\n",
    "    r'(Six|Nine)  ?in t?h?e second place means:',\n",
    "    r'(Six|Nine)  ?in the third place means[:.]',\n",
    "    r'(Six|Nine) in the fourth place means:',\n",
    "    r'(Six|Nine) in the fifth place means:',\n",
    "    r'(Six|Nine) at the top means:',\n",
    ")]\n",
    "\n",
    "def capture_line(n, verse):\n",
    "    hit = line_re[n-1].search(verse)\n",
    "    if hit is not None:\n",
    "        return hit.group(1)\n",
    "\n",
    "hexagram_start = re.compile(r'<a name=\"\\d{1,2}\"></a>')\n",
    "title_parts = re.compile(r'(\\d{1,2})\\. ([^\\n]+)')\n",
    "chapters = hexagram_start.split(html.unescape(text))\n",
    "for i, chapter in enumerate(chapters[1:], 1):\n",
    "    verses = chapter.split('\\n')\n",
    "    hit = title_parts.search(verses[1])\n",
    "    n, title = hit.groups(verses[1])\n",
    "    title_wg, title_en = (s.strip() for s in title.split('/'))\n",
    "    assert i == int(n)\n",
    "    print(f'{n:2}\\t{title_wg:10} {title_en}')\n",
    "    line_matches = 0\n",
    "    iter_verses = iter(verses[2:])\n",
    "    while True:\n",
    "        try:\n",
    "            verse = next(iter_verses)\n",
    "        except StopIteration:\n",
    "            break\n",
    "        for n in range(1, 7):\n",
    "            hit = capture_line(n, verse)\n",
    "            if hit is not None:\n",
    "                line = 6 if hit == 'Six' else 9\n",
    "                print('\\t', n, line)\n",
    "                line_matches += 1\n",
    "                verse = next(iter_verses)\n",
    "                while verse.startswith('\\t'):\n",
    "                    print('\\t\\t', verse)\n",
    "                    verse = next(iter_verses)\n",
    "                \n",
    "    if line_matches != 6:\n",
    "        raise ValueError('!!! missing line text')"
   ]
  },
  {
   "cell_type": "code",
   "execution_count": null,
   "metadata": {},
   "outputs": [],
   "source": [
    "2"
   ]
  },
  {
   "cell_type": "code",
   "execution_count": null,
   "metadata": {},
   "outputs": [],
   "source": []
  }
 ],
 "metadata": {
  "kernelspec": {
   "display_name": "Python 3",
   "language": "python",
   "name": "python3"
  },
  "language_info": {
   "codemirror_mode": {
    "name": "ipython",
    "version": 3
   },
   "file_extension": ".py",
   "mimetype": "text/x-python",
   "name": "python",
   "nbconvert_exporter": "python",
   "pygments_lexer": "ipython3",
   "version": "3.7.4"
  }
 },
 "nbformat": 4,
 "nbformat_minor": 2
}
