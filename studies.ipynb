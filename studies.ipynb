{
 "cells": [
  {
   "cell_type": "code",
   "execution_count": 1,
   "metadata": {},
   "outputs": [
    {
     "name": "stdout",
     "output_type": "stream",
     "text": [
      "U+2630\t☰\tTRIGRAM FOR HEAVEN\n",
      "U+2631\t☱\tTRIGRAM FOR LAKE\n",
      "U+2632\t☲\tTRIGRAM FOR FIRE\n",
      "U+2633\t☳\tTRIGRAM FOR THUNDER\n",
      "U+2634\t☴\tTRIGRAM FOR WIND\n",
      "U+2635\t☵\tTRIGRAM FOR WATER\n",
      "U+2636\t☶\tTRIGRAM FOR MOUNTAIN\n",
      "U+2637\t☷\tTRIGRAM FOR EARTH\n",
      "U+1D0D3\t𝃓\tBYZANTINE MUSICAL SYMBOL DIESIS TRIGRAMMOS OKTO DODEKATA\n",
      "U+1D0D7\t𝃗\tBYZANTINE MUSICAL SYMBOL YFESIS TRIGRAMMOS OKTO DODEKATA\n"
     ]
    }
   ],
   "source": [
    "import unicodedata\n",
    "import sys\n",
    "\n",
    "for code in range(sys.maxunicode+1):\n",
    "    char = chr(code)\n",
    "    name = unicodedata.name(char, None)\n",
    "    if name and 'TRIGRAM' in name:\n",
    "        print(f'U+{code:04X}\\t{char}\\t{name}')"
   ]
  },
  {
   "cell_type": "code",
   "execution_count": 2,
   "metadata": {},
   "outputs": [
    {
     "name": "stdout",
     "output_type": "stream",
     "text": [
      "[(7, 7, 7), '☰', 'HEAVEN'],\n",
      "[(7, 7, 7), '☱', 'LAKE'],\n",
      "[(7, 7, 7), '☲', 'FIRE'],\n",
      "[(7, 7, 7), '☳', 'THUNDER'],\n",
      "[(7, 7, 7), '☴', 'WIND'],\n",
      "[(7, 7, 7), '☵', 'WATER'],\n",
      "[(7, 7, 7), '☶', 'MOUNTAIN'],\n",
      "[(7, 7, 7), '☷', 'EARTH'],\n"
     ]
    }
   ],
   "source": [
    "FIRST_TRIGRAM_CODE = 0x2630\n",
    "\n",
    "dummy_lines = (7, 7, 7)\n",
    "\n",
    "for i in range(8):\n",
    "    char = chr(FIRST_TRIGRAM_CODE + i)\n",
    "    name = unicodedata.name(char).split()[-1]\n",
    "    trigram = [dummy_lines, char, name]\n",
    "    print(repr(trigram) + ',')\n"
   ]
  },
  {
   "cell_type": "code",
   "execution_count": 3,
   "metadata": {},
   "outputs": [
    {
     "name": "stdout",
     "output_type": "stream",
     "text": [
      "☰ ☳ ☵ ☶ ☷ ☴ ☲ ☱ \n"
     ]
    }
   ],
   "source": [
    "from trigrams import Trigram\n",
    "\n",
    "for trigram in Trigram.all:\n",
    "    print(trigram.char, end=' ')\n",
    "    \n",
    "print()"
   ]
  },
  {
   "cell_type": "code",
   "execution_count": 4,
   "metadata": {},
   "outputs": [],
   "source": [
    "LOOKUP_TABLE = [\n",
    "    # ☰   ☳   ☵   ☶   ☷   ☴   ☲   ☱ \n",
    "    ( 1, 34,  5, 26, 11,  9, 14, 43), # ☰\n",
    "    (25, 51,  3, 27, 24, 42, 21, 17), # ☳\n",
    "    ( 6, 40, 29,  4,  7, 59, 64, 47), # ☵\n",
    "    (33, 62, 39, 52, 15, 53, 56, 31), # ☶ \n",
    "    (12, 16,  8, 23,  2, 20, 35, 45), # ☷\n",
    "    (44, 32, 48, 18, 46, 57, 50, 28), # ☴\n",
    "    (13, 55, 63, 22, 36, 37, 30, 49), # ☲\n",
    "    (10, 54, 60, 41, 19, 61, 38, 58), # ☱\n",
    "]\n",
    "\n",
    "FIRST_HEXAGRAM = 0x4DC0"
   ]
  },
  {
   "cell_type": "code",
   "execution_count": 5,
   "metadata": {},
   "outputs": [
    {
     "name": "stdout",
     "output_type": "stream",
     "text": [
      " \t☰\t☳\t☵\t☶\t☷\t☴\t☲\t☱\n",
      "☰\t䷀\t䷡\t䷄\t䷙\t䷊\t䷈\t䷍\t䷪\t\n",
      "☳\t䷘\t䷲\t䷂\t䷚\t䷗\t䷩\t䷔\t䷐\t\n",
      "☵\t䷅\t䷧\t䷜\t䷃\t䷆\t䷺\t䷿\t䷮\t\n",
      "☶\t䷠\t䷽\t䷦\t䷳\t䷎\t䷴\t䷷\t䷞\t\n",
      "☷\t䷋\t䷏\t䷇\t䷖\t䷁\t䷓\t䷢\t䷬\t\n",
      "☴\t䷫\t䷟\t䷯\t䷑\t䷭\t䷸\t䷱\t䷛\t\n",
      "☲\t䷌\t䷶\t䷾\t䷕\t䷣\t䷤\t䷝\t䷰\t\n",
      "☱\t䷉\t䷵\t䷻\t䷨\t䷒\t䷼\t䷥\t䷹\t\n"
     ]
    }
   ],
   "source": [
    "print(' ', *(t.char for t in Trigram.all),sep='\\t')\n",
    "\n",
    "for row, tri in zip(LOOKUP_TABLE, Trigram.all):\n",
    "    print(tri.char, end='\\t')\n",
    "    for n in row:\n",
    "        print(chr(FIRST_HEXAGRAM+n-1), end='\\t')\n",
    "    print()"
   ]
  },
  {
   "attachments": {},
   "cell_type": "markdown",
   "metadata": {},
   "source": [
    "## Class Yao: the four possible lines"
   ]
  },
  {
   "cell_type": "code",
   "execution_count": 55,
   "metadata": {},
   "outputs": [],
   "source": [
    "from array import array\n",
    "from enum import Enum\n",
    "import random\n",
    "\n",
    "\n",
    "\n",
    "LINE_DRAWINGS = {\n",
    "    6: '━━━ ⨯ ━━━',\n",
    "    7: '━━━━━━━━━',\n",
    "    8: '━━━   ━━━',\n",
    "    9: '━━━━⊖━━━━',\n",
    "}\n",
    "\n",
    "ODDS = {\n",
    "    6: 1,\n",
    "    8: 7,\n",
    "    7: 5,\n",
    "    9: 3,\n",
    "}\n",
    "\n",
    "assert sum(ODDS.values()) == 16, 'sum must be 16'\n",
    "\n",
    "outcome_groups = ([result] * chances for result, chances in ODDS.items())\n",
    "OUTCOMES = array('B', (o for group in outcome_groups for o in group))\n",
    "assert len(OUTCOMES) == 16, 'length of OUTCOMES must be 16'\n",
    "assert sum(o % 2 for o in OUTCOMES) == 8, 'count of odd outcomes must be 8'\n",
    "\n",
    "class Yao(Enum):\n",
    "    OLD_YIN = 6\n",
    "    YANG = 7\n",
    "    YIN = 8\n",
    "    OLD_YANG = 9\n",
    "\n",
    "    def draw(self):\n",
    "        return LINE_DRAWINGS[self.value]\n",
    "    \n",
    "    def mutate(self):\n",
    "        if self is Yao.OLD_YIN:\n",
    "            return Yao.YANG\n",
    "        elif self is Yao.OLD_YANG:\n",
    "            return Yao.YIN\n",
    "        return self\n",
    "    \n",
    "    @classmethod\n",
    "    def pick(cls):\n",
    "        return cls(random.choice(OUTCOMES))\n",
    "    \n",
    "    def __lt__(self, other):\n",
    "        assert isinstance(other, type(self))\n",
    "        return self.value < other.value\n",
    "\n",
    "Yao.NAMES = {y.value: y.name.replace('_', ' ').title() for y in Yao}\n",
    "\n"
   ]
  },
  {
   "cell_type": "code",
   "execution_count": 56,
   "metadata": {},
   "outputs": [
    {
     "data": {
      "text/plain": [
       "(8, 'YIN')"
      ]
     },
     "execution_count": 56,
     "metadata": {},
     "output_type": "execute_result"
    }
   ],
   "source": [
    "Yao.YIN.value, Yao.YIN.name"
   ]
  },
  {
   "cell_type": "code",
   "execution_count": 57,
   "metadata": {},
   "outputs": [
    {
     "data": {
      "text/plain": [
       "(<Yao.OLD_YIN: 6>, {6: 'Old Yin', 7: 'Yang', 8: 'Yin', 9: 'Old Yang'})"
      ]
     },
     "execution_count": 57,
     "metadata": {},
     "output_type": "execute_result"
    }
   ],
   "source": [
    "Yao(6), Yao.NAMES"
   ]
  },
  {
   "cell_type": "code",
   "execution_count": 58,
   "metadata": {},
   "outputs": [
    {
     "name": "stdout",
     "output_type": "stream",
     "text": [
      "━━━ ⨯ ━━━\n",
      "━━━━━━━━━\n",
      "━━━   ━━━\n",
      "━━━━⊖━━━━\n"
     ]
    }
   ],
   "source": [
    "for y in Yao:\n",
    "    print(y.draw())"
   ]
  },
  {
   "cell_type": "code",
   "execution_count": 59,
   "metadata": {},
   "outputs": [
    {
     "name": "stdout",
     "output_type": "stream",
     "text": [
      "━━━━━━━━━\n",
      "━━━━━━━━━\n",
      "━━━   ━━━\n",
      "━━━   ━━━\n"
     ]
    }
   ],
   "source": [
    "for y in Yao:\n",
    "    print(y.mutate().draw())"
   ]
  },
  {
   "cell_type": "code",
   "execution_count": 77,
   "metadata": {},
   "outputs": [
    {
     "name": "stdout",
     "output_type": "stream",
     "text": [
      "6   63014    6.30% ( 6.25%)\n",
      "7  312078   31.21% (31.25%)\n",
      "8  436937   43.69% (43.75%)\n",
      "9  187971   18.80% (18.75%)\n"
     ]
    }
   ],
   "source": [
    "from collections import Counter\n",
    "\n",
    "TOTAL = 1_000_000\n",
    "c = Counter()\n",
    "for _ in range(TOTAL):\n",
    "    c[Yao.pick()] += 1\n",
    "\n",
    "for k, v in sorted(c.items()):\n",
    "    pct = v / TOTAL * 100\n",
    "    ideal_pct = ODDS[k.value] / 16 * 100\n",
    "    print(f'{k.value} {v:>7d} {pct:>7.2f}% ({ideal_pct:>5.2f}%)')\n"
   ]
  },
  {
   "cell_type": "code",
   "execution_count": null,
   "metadata": {},
   "outputs": [],
   "source": []
  },
  {
   "cell_type": "code",
   "execution_count": null,
   "metadata": {},
   "outputs": [],
   "source": []
  }
 ],
 "metadata": {
  "kernelspec": {
   "display_name": "Python 3",
   "language": "python",
   "name": "python3"
  },
  "language_info": {
   "codemirror_mode": {
    "name": "ipython",
    "version": 3
   },
   "file_extension": ".py",
   "mimetype": "text/x-python",
   "name": "python",
   "nbconvert_exporter": "python",
   "pygments_lexer": "ipython3",
   "version": "3.11.1"
  }
 },
 "nbformat": 4,
 "nbformat_minor": 2
}
