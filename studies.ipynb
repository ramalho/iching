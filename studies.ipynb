{
 "cells": [
  {
   "cell_type": "code",
   "execution_count": 1,
   "metadata": {},
   "outputs": [
    {
     "name": "stdout",
     "output_type": "stream",
     "text": [
      "U+2630\t☰\tTRIGRAM FOR HEAVEN\n",
      "U+2631\t☱\tTRIGRAM FOR LAKE\n",
      "U+2632\t☲\tTRIGRAM FOR FIRE\n",
      "U+2633\t☳\tTRIGRAM FOR THUNDER\n",
      "U+2634\t☴\tTRIGRAM FOR WIND\n",
      "U+2635\t☵\tTRIGRAM FOR WATER\n",
      "U+2636\t☶\tTRIGRAM FOR MOUNTAIN\n",
      "U+2637\t☷\tTRIGRAM FOR EARTH\n",
      "U+1D0D3\t𝃓\tBYZANTINE MUSICAL SYMBOL DIESIS TRIGRAMMOS OKTO DODEKATA\n",
      "U+1D0D7\t𝃗\tBYZANTINE MUSICAL SYMBOL YFESIS TRIGRAMMOS OKTO DODEKATA\n"
     ]
    }
   ],
   "source": [
    "import unicodedata\n",
    "import sys\n",
    "\n",
    "for code in range(sys.maxunicode+1):\n",
    "    char = chr(code)\n",
    "    name = unicodedata.name(char, None)\n",
    "    if name and 'TRIGRAM' in name:\n",
    "        print(f'U+{code:04X}\\t{char}\\t{name}')"
   ]
  },
  {
   "cell_type": "code",
   "execution_count": 2,
   "metadata": {},
   "outputs": [
    {
     "name": "stdout",
     "output_type": "stream",
     "text": [
      "[(7, 7, 7), '☰', 'HEAVEN'],\n",
      "[(7, 7, 7), '☱', 'LAKE'],\n",
      "[(7, 7, 7), '☲', 'FIRE'],\n",
      "[(7, 7, 7), '☳', 'THUNDER'],\n",
      "[(7, 7, 7), '☴', 'WIND'],\n",
      "[(7, 7, 7), '☵', 'WATER'],\n",
      "[(7, 7, 7), '☶', 'MOUNTAIN'],\n",
      "[(7, 7, 7), '☷', 'EARTH'],\n"
     ]
    }
   ],
   "source": [
    "FIRST_TRIGRAM_CODE = 0x2630\n",
    "\n",
    "dummy_lines = (7, 7, 7)\n",
    "\n",
    "for i in range(8):\n",
    "    char = chr(FIRST_TRIGRAM_CODE + i)\n",
    "    name = unicodedata.name(char).split()[-1]\n",
    "    trigram = [dummy_lines, char, name]\n",
    "    print(repr(trigram) + ',')\n"
   ]
  },
  {
   "cell_type": "code",
   "execution_count": 3,
   "metadata": {},
   "outputs": [
    {
     "name": "stdout",
     "output_type": "stream",
     "text": [
      "☰ ☳ ☵ ☶ ☷ ☴ ☲ ☱ \n"
     ]
    }
   ],
   "source": [
    "from trigrams import Trigram\n",
    "\n",
    "for trigram in Trigram.all:\n",
    "    print(trigram.char, end=' ')\n",
    "    \n",
    "print()"
   ]
  },
  {
   "cell_type": "code",
   "execution_count": 4,
   "metadata": {},
   "outputs": [],
   "source": [
    "LOOKUP_TABLE = [\n",
    "    # ☰   ☳   ☵   ☶   ☷   ☴   ☲   ☱ \n",
    "    ( 1, 34,  5, 26, 11,  9, 14, 43), # ☰\n",
    "    (25, 51,  3, 27, 24, 42, 21, 17), # ☳\n",
    "    ( 6, 40, 29,  4,  7, 59, 64, 47), # ☵\n",
    "    (33, 62, 39, 52, 15, 53, 56, 31), # ☶ \n",
    "    (12, 16,  8, 23,  2, 20, 35, 45), # ☷\n",
    "    (44, 32, 48, 18, 46, 57, 50, 28), # ☴\n",
    "    (13, 55, 63, 22, 36, 37, 30, 49), # ☲\n",
    "    (10, 54, 60, 41, 19, 61, 38, 58), # ☱\n",
    "]\n",
    "\n",
    "FIRST_HEXAGRAM = 0x4DC0"
   ]
  },
  {
   "cell_type": "code",
   "execution_count": 5,
   "metadata": {},
   "outputs": [
    {
     "name": "stdout",
     "output_type": "stream",
     "text": [
      " \t☰\t☳\t☵\t☶\t☷\t☴\t☲\t☱\n",
      "☰\t䷀\t䷡\t䷄\t䷙\t䷊\t䷈\t䷍\t䷪\t\n",
      "☳\t䷘\t䷲\t䷂\t䷚\t䷗\t䷩\t䷔\t䷐\t\n",
      "☵\t䷅\t䷧\t䷜\t䷃\t䷆\t䷺\t䷿\t䷮\t\n",
      "☶\t䷠\t䷽\t䷦\t䷳\t䷎\t䷴\t䷷\t䷞\t\n",
      "☷\t䷋\t䷏\t䷇\t䷖\t䷁\t䷓\t䷢\t䷬\t\n",
      "☴\t䷫\t䷟\t䷯\t䷑\t䷭\t䷸\t䷱\t䷛\t\n",
      "☲\t䷌\t䷶\t䷾\t䷕\t䷣\t䷤\t䷝\t䷰\t\n",
      "☱\t䷉\t䷵\t䷻\t䷨\t䷒\t䷼\t䷥\t䷹\t\n"
     ]
    }
   ],
   "source": [
    "print(' ', *(t.char for t in Trigram.all),sep='\\t')\n",
    "\n",
    "for row, tri in zip(LOOKUP_TABLE, Trigram.all):\n",
    "    print(tri.char, end='\\t')\n",
    "    for n in row:\n",
    "        print(chr(FIRST_HEXAGRAM+n-1), end='\\t')\n",
    "    print()"
   ]
  },
  {
   "cell_type": "code",
   "execution_count": null,
   "metadata": {},
   "outputs": [],
   "source": []
  }
 ],
 "metadata": {
  "kernelspec": {
   "display_name": "Python 3",
   "language": "python",
   "name": "python3"
  },
  "language_info": {
   "codemirror_mode": {
    "name": "ipython",
    "version": 3
   },
   "file_extension": ".py",
   "mimetype": "text/x-python",
   "name": "python",
   "nbconvert_exporter": "python",
   "pygments_lexer": "ipython3",
   "version": "3.7.5"
  }
 },
 "nbformat": 4,
 "nbformat_minor": 2
}
